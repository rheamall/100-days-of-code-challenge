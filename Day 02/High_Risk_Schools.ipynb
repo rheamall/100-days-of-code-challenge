{
  "cells": [
    {
      "cell_type": "code",
      "execution_count": null,
      "id": "b6c2f105",
      "metadata": {
        "id": "b6c2f105"
      },
      "outputs": [],
      "source": [
        "safe_schools = {\n",
        "      \"Abercorn School (Early Years)\": [51.53279,\t-0.179798],\n",
        "      \"ARK King Solomon Academy\": [51.5215994,\t-0.1697808],\n",
        "      \"Arnold House School\": [51.534086,\t-0.176325],\n",
        "      \"Bales Private School and Sixth Form College\": [51.528309,\t-0.215963],\n",
        "      \"Barrow Hill Junior School\": [51.53325, -0.168972],\n",
        "      \"Beachcroft AP Academy\": [51.536501,\t-0.17641],\n",
        "      \"Dorothy Gardner Centre\": [51.528647, -0.201671],\n",
        "      \"Edward Wilson Primary School\": [51.5210908,\t-0.1893251],\n",
        "      \"Essendine Primary School\": [51.528139, -0.1946456],\n",
        "      \"Fairley House School\": [51.4906568, -0.1313344],\n",
        "      \"Fisherton Street and Luton Street Play Street\": [51.5244763,\t-0.1719269],\n",
        "      \"Francis Holland School (Sloane Square)\": [51.4916497,-0.1542062],\n",
        "      \"George Eliot Primary School\": [51.536403,-0.17771],\n",
        "      \"Hampden Gurney C of E Primary School\": [51.5166338,-0.1643795],\n",
        "      \"Harris Academy, St Johns Wood (Formerly Qintin Kynaston)\": [51.539078,-0.177307],\n",
        "      \"International Community School (Secondary, Star Lane)\": [51.5176474,-0.1700876],\n",
        "      \"Kensington Park School\": [51.5110722,-0.1894525],\n",
        "      \"Naima Jewish Preparatory School\": [51.534403,-0.189973],\n",
        "      \"Our Lady of Dolours RC Primary School\": [51.5215795,-0.1917407],\n",
        "      \"Paddington Academy\": [51.524818,-0.19288],\n",
        "      \"Portman Early Childhood Centre\": [51.5251839,-0.1674738],\n",
        "      \"Queen Elizabeth II Jubilee School (Including Kennet West Skills Centre)\": [51.525597,-0.202562],\n",
        "      \"Queen's Park Primary School\": [51.527292,-0.208505],\n",
        "      \"Robinsfield Infant School\": [51.535175,-0.170324],\n",
        "      \"Sir Simon Milton University Technical College\": [51.4894368,-0.1472389],\n",
        "      \"St Augustine's C of E High School\": [51.533754,-0.191936],\n",
        "      \"St Augustine's C of E Primary School\": [51.53432,-0.191136],\n",
        "      \"St Christina's School\": [51.536237,-0.1637],\n",
        "      \"St James and St John C of E Voluntary Aided Primary School\": [51.5130553,-0.1792165],\n",
        "      \"St Joseph's RC Primary School\": [51.5278,-0.182053],\n",
        "      \"St Luke's C of E Primary School\": [51.532133,-0.202805],\n",
        "      \"St Mary's Bryanston Square C of E School\": [51.5204607,-0.162561],\n",
        "      \"St Matthew's CE Primary School\" : [ 51.4975764 , -0.1308844 ],\n",
        "      \"St Nicholas Preparatory School\" : [ 51.5016772 , -0.1734347 ],\n",
        "      \"St Peter's C of E Primary School\" : [ 51.5237983 , -0.1974666 ],\n",
        "      \"St Peter's Eaton Square C of E Primary School\" : [ 51.4959884 , -0.1467772 ],\n",
        "      \"The American School in London\" : [ 51.534914 , -0.176214 ],\n",
        "      \"The St Marylebone Church of England Bridge School\" : [ 51.528293 , -0.207524 ],\n",
        "      \"Westminster Academy\" : [ 51.4954638 , -0.1385716 ],\n",
        "      \"Westminster Cathedral Choir School\" : [ 51.4954638 , -0.1385716 ],\n",
        "      \"Westminster City School\" : [ 51.4977523 , -0.139665 ],\n",
        "      \"Westminster School\" : [ 51.4978828 , -0.1283692 ],\n",
        "      \"Westminster Under School\" : [ 51.4919544 , -0.1344749 ],\n",
        "      \"Wilberforce Primary School\" : [ 51.532102 , -0.207997 ]\n",
        "}"
      ]
    },
    {
      "cell_type": "code",
      "execution_count": null,
      "id": "378180c3",
      "metadata": {
        "id": "378180c3"
      },
      "outputs": [],
      "source": [
        "risk = {\n",
        "     \"Abercorn School (Pre-Prep)\": [51.5211344,\t-0.1640855],\n",
        "     \"Abercorn School (Prep)\": [51.5200802,\t-0.1447417],\n",
        "     \"Abingdon House School\": [51.5243038,\t-0.1661481],\n",
        "     \"Burdett Coutts and Townshend C of E Primary School\": [51.4951466,\t-0.1347227],\n",
        "     \"Christ Church Bentinck C of E Primary School\": [51.5213509, -0.1659774],\n",
        "     \"College Park School\": [51.5142013, -0.1850972],\n",
        "     \"Connaught House School\": [51.5139559, -0.1629838],\n",
        "     \"Eaton House School\": [51.4939835, -0.1547926],\n",
        "     \"Eaton Square School\": [51.4925926, -0.1427291],\n",
        "     \"Francis Holland School (Regent's Park)\":[51.5248755, -0.1599408],\n",
        "     \"Gateway Academy\": [51.5259615,-0.170912],\n",
        "     \"Halcyon London International School\": [51.5154099,-0.1613935],\n",
        "     \"Hallfield Primary School\": [51.5142013,-0.1850972],\n",
        "     \"Harris Westminster Sixth Form\": [51.499673,-0.1309454],\n",
        "     \"International Community School (Primary, Wyndham Place)\": [51.5195937,-0.1616547],\n",
        "     \"L'ecole Internationale Franco-Anglaise Ltd\": [51.5198878,-0.1446566],\n",
        "     \"Marylebone Boys' School\": [51.5186978,-0.1767975],\n",
        "     \"Millbank Academy\": [51.4920724,-0.1296446],\n",
        "     \"Pimlico Academy\": [51.4883387,-0.1369623],\n",
        "     \"Pimlico Primary\": [51.4883387,-0.1369623],\n",
        "     \"Portland Place School\": [51.5209155,-0.1451149],\n",
        "     \"Queen's College London\": [51.5184955,-0.1467266],\n",
        "     \"Southbank International School (Westminster)\": [51.521624,-0.1457838],\n",
        "     \"Soho Parish C of E Primary School\": [51.5116984,-0.1346362],\n",
        "     \"St George's Hanover Square CE Primary School\": [51.5086168,-0.1501122],\n",
        "     \"St Barnabas' C of E Primary School\": [51.4907798,-0.1518338],\n",
        "     \"St Clement Dane's C of E Primary School\": [51.513404,-0.1192265],\n",
        "     \"St Edward's RC Primary School\": [51.5229115,-0.1656143],\n",
        "     \"St George's Catholic School (Maida Vale)\": [51.533174,-0.187197],\n",
        "     \"St John's Wood Pre-Preparatory School\": [51.530326,-0.167994],\n",
        "     \"St Mary of the Angels RC Primary School\": [51.5185324,-0.1983909],\n",
        "     \"St Marylebone CE School\": [51.5221534,-0.1515445],\n",
        "     \"St Saviour's C of E Primary School\" : [ 51.5234979 , -0.18719 ],\n",
        "     \"St Stephen's C of E Primary School\" : [ 51.5142013 , -0.1850972 ],\n",
        "     \"St Vincent de Paul RC Primary School\" : [ 51.495507 , -0.1402681 ],\n",
        "     \"Sylvia Young Theatre School\" : [ 51.5169866 , -0.162167 ],\n",
        "     \"The Grey Coat Hospital (Site 1)\" : [ 51.4961497 , -0.1335502 ],\n",
        "     \"The Grey Coat Hospital (Site 2)\" : [ 51.4962238 , -0.1346999 ],\n",
        "     \"Westminster Abbey Choir School\" : [ 51.4984027 , -0.1299222 ],\n",
        "     \"Wetherby Preparatory School\" : [ 51.5166311 , -0.160779 ],\n",
        "     \"Wetherby Senior School\" : [ 51.5177976 , -0.1506231 ]\n",
        "}"
      ]
    },
    {
      "cell_type": "code",
      "execution_count": null,
      "id": "b2bbb66e",
      "metadata": {
        "id": "b2bbb66e"
      },
      "outputs": [],
      "source": [
        "import folium"
      ]
    },
    {
      "cell_type": "code",
      "execution_count": null,
      "id": "55763dc0",
      "metadata": {
        "id": "55763dc0"
      },
      "outputs": [],
      "source": [
        "map_center = [51.5184955,-0.1467266]\n",
        "\n",
        "mymap = folium.Map(location=map_center, zoom_start=13)\n",
        "\n",
        "for school, coords in risk.items():\n",
        "    folium.Marker(coords, popup=f\"School: {school}<br>Lat: {coords[0]}, Lon: {coords[1]}\", icon=folium.Icon(color='red', icon='')).add_to(mymap)\n",
        "\n",
        "for school, coords in safe_schools.items():\n",
        "    folium.Marker(coords, popup=f\"School: {school}<br>Lat: {coords[0]}, Lon: {coords[1]}\", icon=folium.Icon(color='blue', icon='')).add_to(mymap)\n",
        "\n",
        "mymap.save(\"RiskSchools.html\")"
      ]
    },
    {
      "cell_type": "code",
      "execution_count": null,
      "id": "52769de9",
      "metadata": {
        "id": "52769de9"
      },
      "outputs": [],
      "source": []
    }
  ],
  "metadata": {
    "kernelspec": {
      "display_name": "Python 3 (ipykernel)",
      "language": "python",
      "name": "python3"
    },
    "language_info": {
      "codemirror_mode": {
        "name": "ipython",
        "version": 3
      },
      "file_extension": ".py",
      "mimetype": "text/x-python",
      "name": "python",
      "nbconvert_exporter": "python",
      "pygments_lexer": "ipython3",
      "version": "3.11.4"
    },
    "colab": {
      "provenance": []
    }
  },
  "nbformat": 4,
  "nbformat_minor": 5
}