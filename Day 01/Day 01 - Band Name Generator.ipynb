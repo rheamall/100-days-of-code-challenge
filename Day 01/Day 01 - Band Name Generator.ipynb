{
 "cells": [
  {
   "cell_type": "code",
   "execution_count": 1,
   "id": "20d4f00e",
   "metadata": {},
   "outputs": [
    {
     "name": "stdout",
     "output_type": "stream",
     "text": [
      "Welcome to the Band Name Generator\n",
      "What's the name of the city you grew up in?\n",
      "London\n",
      "What's your pet's name?\n",
      "Ladybug\n",
      "Your band name could be  London Ladybug\n"
     ]
    }
   ],
   "source": [
    "print('Welcome to the Band Name Generator')\n",
    "city = input('What\\'s the name of the city you grew up in?\\n')\n",
    "pet = input('What\\'s your pet\\'s name?\\n')\n",
    "band = city + ' ' + pet \n",
    "print('Your band name could be ', band)"
   ]
  }
 ],
 "metadata": {
  "kernelspec": {
   "display_name": "Python 3 (ipykernel)",
   "language": "python",
   "name": "python3"
  },
  "language_info": {
   "codemirror_mode": {
    "name": "ipython",
    "version": 3
   },
   "file_extension": ".py",
   "mimetype": "text/x-python",
   "name": "python",
   "nbconvert_exporter": "python",
   "pygments_lexer": "ipython3",
   "version": "3.9.12"
  }
 },
 "nbformat": 4,
 "nbformat_minor": 5
}
